{
 "cells": [
  {
   "cell_type": "code",
   "execution_count": 1,
   "metadata": {},
   "outputs": [],
   "source": [
    "import pandas as pd\n",
    "import sklearn\n",
    "import numpy as np\n",
    "import matplotlib.pyplot as plt\n",
    "import warnings\n",
    "warnings.filterwarnings('ignore')"
   ]
  },
  {
   "cell_type": "code",
   "execution_count": 2,
   "metadata": {},
   "outputs": [],
   "source": [
    "train=pd.read_csv('C:\\\\Python\\\\train.csv')"
   ]
  },
  {
   "cell_type": "code",
   "execution_count": 3,
   "metadata": {},
   "outputs": [],
   "source": [
    "label=train['label']"
   ]
  },
  {
   "cell_type": "code",
   "execution_count": 4,
   "metadata": {},
   "outputs": [
    {
     "name": "stdout",
     "output_type": "stream",
     "text": [
      "[1, 0, 16, 7, 3, 8, 21, 6, 10, 11]\n"
     ]
    }
   ],
   "source": [
    "l1=list()\n",
    "k=0\n",
    "for i in range(0,10):\n",
    "    l1.append(train[train.label==i].index[0])\n",
    "    \n",
    "print(l1)"
   ]
  },
  {
   "cell_type": "code",
   "execution_count": 5,
   "metadata": {},
   "outputs": [],
   "source": [
    "train=train.drop('label',axis=1)"
   ]
  },
  {
   "cell_type": "code",
   "execution_count": 6,
   "metadata": {},
   "outputs": [],
   "source": [
    "def imageshow(pixel):\n",
    "    image=np.array(pixel,dtype='float')\n",
    "    pixel=image.reshape((28,28))\n",
    "    plt.imshow(pixel,cmap='gray')\n",
    "    plt.tight_layout()\n",
    "    plt.show()"
   ]
  },
  {
   "cell_type": "code",
   "execution_count": 7,
   "metadata": {
    "scrolled": true
   },
   "outputs": [],
   "source": [
    "def printdigits(i,j,k):\n",
    "    x=l1[k]\n",
    "    pixel=train[x:x+1]\n",
    "    image=np.array(pixel,dtype='float')\n",
    "    pixel=image.reshape((28,28))\n",
    "    axs[i,j].imshow(pixel,cmap='gray')   \n",
    "    "
   ]
  },
  {
   "cell_type": "code",
   "execution_count": 8,
   "metadata": {
    "scrolled": true
   },
   "outputs": [
    {
     "data": {
      "image/png": "[encoded data removed]",
      "text/plain": [
       "<Figure size 1440x1080 with 10 Axes>"
      ]
     },
     "metadata": {
      "needs_background": "light"
     },
     "output_type": "display_data"
    }
   ],
   "source": [
    "f,axs=plt.subplots(2,5,figsize=(20,15))\n",
    "k=0\n",
    "for i in range(0,2):\n",
    "    for j in range(0,5):\n",
    "        printdigits(i,j,k)\n",
    "        k=k+1"
   ]
  },
  {
   "cell_type": "code",
   "execution_count": 9,
   "metadata": {},
   "outputs": [
    {
     "data": {
      "text/plain": [
       "(array([0, 1, 0, ..., 3, 9, 7], dtype=int64),\n",
       " Int64Index([1, 0, 4, 7, 3, 5, 8, 9, 2, 6], dtype='int64'))"
      ]
     },
     "execution_count": 9,
     "metadata": {},
     "output_type": "execute_result"
    }
   ],
   "source": [
    "pd.factorize(label)"
   ]
  },
  {
   "cell_type": "code",
   "execution_count": 10,
   "metadata": {},
   "outputs": [
    {
     "data": {
      "image/png": "[encoded data removed]",
      "text/plain": [
       "<Figure size 432x288 with 1 Axes>"
      ]
     },
     "metadata": {
      "needs_background": "light"
     },
     "output_type": "display_data"
    }
   ],
   "source": [
    "distribution=plt.hist(label)"
   ]
  },
  {
   "cell_type": "markdown",
   "metadata": {},
   "source": [
    "#-------Standardize the Inputs------------"
   ]
  },
  {
   "cell_type": "code",
   "execution_count": 11,
   "metadata": {},
   "outputs": [],
   "source": [
    "from sklearn.preprocessing import StandardScaler\n",
    "\n",
    "sc=StandardScaler()\n",
    "\n",
    "train=sc.fit_transform(train)"
   ]
  },
  {
   "cell_type": "code",
   "execution_count": 12,
   "metadata": {},
   "outputs": [],
   "source": [
    "#---------Logistic Regression-----------#"
   ]
  },
  {
   "cell_type": "code",
   "execution_count": 13,
   "metadata": {},
   "outputs": [],
   "source": [
    "from sklearn.linear_model import LogisticRegression\n",
    "from sklearn.model_selection import train_test_split"
   ]
  },
  {
   "cell_type": "code",
   "execution_count": 14,
   "metadata": {},
   "outputs": [
    {
     "name": "stdout",
     "output_type": "stream",
     "text": [
      "0.8533333333333334\n",
      "1232\n"
     ]
    }
   ],
   "source": [
    "randomseed=1\n",
    "\n",
    "trainx,testx,lblx,lbly=train_test_split(train,label,train_size=0.8)\n",
    "\n",
    "LogModel_1 = LogisticRegression(C=50. / trainx.shape[0], penalty='l1', solver='saga', tol=0.1, class_weight='balanced')\n",
    "                                                                        ##----Logistic Regression Model\n",
    "                            \n",
    "LogModel_1.fit(trainx,lblx)  ##---Model Parameters\n",
    "\n",
    "\n",
    "#print(np.mean(LogModel_1.coef_[0]) )      #----Coefficient Value\n",
    "print(LogModel_1.score(testx,lbly))       #----Test Accuracy\n",
    "\n",
    "ypred=LogModel_1.predict(testx)           #----Predicting on test data\n",
    "CountMisclassifications=(ypred!=lbly).sum() #----Counting the number of misclassifications\n",
    "print(CountMisclassifications)"
   ]
  },
  {
   "cell_type": "markdown",
   "metadata": {},
   "source": [
    "###--------Neural Nets using PyTorch Implementation"
   ]
  },
  {
   "cell_type": "code",
   "execution_count": 57,
   "metadata": {},
   "outputs": [],
   "source": [
    "import pandas as pd\n",
    "import numpy as np\n",
    "import torch\n",
    "import torchvision\n",
    "from torch import nn, optim\n",
    "from sklearn.model_selection import train_test_split"
   ]
  },
  {
   "cell_type": "code",
   "execution_count": 58,
   "metadata": {},
   "outputs": [],
   "source": [
    "test=pd.read_csv('C:\\\\Python\\\\test_MNIST.csv')\n",
    "train_nnet=pd.read_csv('C:\\\\Python\\\\train.csv')\n",
    "label_nnet=train_nnet.label.values\n",
    "train_nnet=train_nnet.drop('label',axis=1)"
   ]
  },
  {
   "cell_type": "code",
   "execution_count": 59,
   "metadata": {
    "scrolled": true
   },
   "outputs": [],
   "source": [
    "train_nnet_norm=train_nnet.values/255"
   ]
  },
  {
   "cell_type": "code",
   "execution_count": 60,
   "metadata": {},
   "outputs": [],
   "source": [
    "features_train, features_test, target_train, target_test = train_test_split(train_nnet_norm, label_nnet, test_size=0.20, random_state=42)"
   ]
  },
  {
   "cell_type": "code",
   "execution_count": 61,
   "metadata": {},
   "outputs": [],
   "source": [
    "##---- Creating PyTorch Tensor"
   ]
  },
  {
   "cell_type": "code",
   "execution_count": 62,
   "metadata": {},
   "outputs": [],
   "source": [
    "##--- Train\n",
    "features_train=torch.from_numpy(features_train)\n",
    "target_train=np.array(target_train)\n",
    "target_train = torch.from_numpy(target_train).type(torch.LongTensor)\n",
    "\n",
    "#--- Test\n",
    "features_test=torch.from_numpy(features_test)\n",
    "target_test=np.array(target_test)\n",
    "target_test = torch.from_numpy(target_test).type(torch.LongTensor)"
   ]
  },
  {
   "cell_type": "code",
   "execution_count": 63,
   "metadata": {},
   "outputs": [],
   "source": [
    "batch_size=256\n",
    "\n",
    "train = torch.utils.data.TensorDataset(features_train,target_train)\n",
    "test =  torch.utils.data.TensorDataset(features_test,target_test)\n",
    "\n",
    "train_loader = torch.utils.data.DataLoader(train, batch_size = batch_size, shuffle = True)\n",
    "test_loader = torch.utils.data.DataLoader(test, batch_size = batch_size, shuffle = True)"
   ]
  },
  {
   "cell_type": "code",
   "execution_count": 64,
   "metadata": {},
   "outputs": [],
   "source": [
    "# Network - 784---100---64--10\n",
    "\n",
    "inp=784\n",
    "hidden=[400,120]\n",
    "op=10"
   ]
  },
  {
   "cell_type": "code",
   "execution_count": 65,
   "metadata": {},
   "outputs": [
    {
     "name": "stdout",
     "output_type": "stream",
     "text": [
      "Sequential(\n",
      "  (0): Linear(in_features=784, out_features=400, bias=True)\n",
      "  (1): ReLU()\n",
      "  (2): Linear(in_features=400, out_features=120, bias=True)\n",
      "  (3): ReLU()\n",
      "  (4): Linear(in_features=120, out_features=10, bias=True)\n",
      "  (5): LogSoftmax()\n",
      ")\n"
     ]
    }
   ],
   "source": [
    "nnet_model = nn.Sequential(nn.Linear(inp, hidden[0]),\n",
    "                      nn.ReLU(),\n",
    "                      nn.Linear(hidden[0], hidden[1]),\n",
    "                      nn.ReLU(),\n",
    "                      nn.Linear(hidden[1], op),\n",
    "                      nn.LogSoftmax(dim=1))\n",
    "\n",
    "print(nnet_model)"
   ]
  },
  {
   "cell_type": "code",
   "execution_count": 66,
   "metadata": {},
   "outputs": [],
   "source": [
    "loss_fxn = nn.NLLLoss()\n",
    "\n",
    "# img, lbls = next(iter(train_loader))\n",
    "# img = img.view(img.shape[0], -1)\n",
    "\n",
    "# lgps = nnet_model(img.float()) #log probabilities\n",
    "# loss = loss_fxn(lgps, lbls) #calculate the NLL loss"
   ]
  },
  {
   "cell_type": "code",
   "execution_count": 67,
   "metadata": {},
   "outputs": [
    {
     "name": "stdout",
     "output_type": "stream",
     "text": [
      "Epoch 0 - Training loss: 0.3172001378667174\n",
      "Epoch 1 - Training loss: 0.11724730156305613\n",
      "Epoch 2 - Training loss: 0.08205119461159814\n",
      "Epoch 3 - Training loss: 0.06156387610473868\n",
      "Epoch 4 - Training loss: 0.05922859450308324\n",
      "Epoch 5 - Training loss: 0.056635797658765856\n",
      "Epoch 6 - Training loss: 0.059829743917692794\n",
      "Epoch 7 - Training loss: 0.03638365827359711\n",
      "Epoch 8 - Training loss: 0.04174057099700087\n",
      "Epoch 9 - Training loss: 0.039413598224972236\n",
      "Epoch 10 - Training loss: 0.04320651748584527\n",
      "Epoch 11 - Training loss: 0.03793948370642311\n",
      "Epoch 12 - Training loss: 0.03268641384431359\n",
      "Epoch 13 - Training loss: 0.045473067843087134\n",
      "Epoch 14 - Training loss: 0.03319027604690442\n"
     ]
    }
   ],
   "source": [
    "learning_rate=0.01\n",
    "optimizer=torch.optim.Adam(nnet_model.parameters(),lr=learning_rate)\n",
    "epochs=15\n",
    "inittime=0\n",
    "\n",
    "for i in range(epochs):\n",
    "    run_loss=0\n",
    "    for img,lbl in train_loader:\n",
    "        img=img.view(img.shape[0],-1)\n",
    "        optimizer.zero_grad()\n",
    "        pred=nnet_model(img.float())\n",
    "        \n",
    "        loss=loss_fxn(pred,lbl)\n",
    "        \n",
    "        loss.backward()\n",
    "        \n",
    "        optimizer.step()\n",
    "        \n",
    "        run_loss=run_loss+loss.item()\n",
    "    else:\n",
    "        print(\"Epoch {} - Training loss: {}\".format(i, run_loss/len(train_loader)))\n",
    "##-- print(\"\\nTraining Time (in minutes) =\",(time()-inittime)/60)"
   ]
  },
  {
   "cell_type": "code",
   "execution_count": 68,
   "metadata": {},
   "outputs": [
    {
     "name": "stdout",
     "output_type": "stream",
     "text": [
      "Number of images validated -> 8400\n",
      "Accuracy -> 0.9697619047619047\n"
     ]
    }
   ],
   "source": [
    "#---- Calculating Accuracy\n",
    "\n",
    "true_pred=0\n",
    "total_pred=0\n",
    "\n",
    "for img,lbl in test_loader:\n",
    "    for i in range(len(lbl)):\n",
    "        #print((lbl))\n",
    "        img1=img[i].view(1,784)\n",
    "        with torch.no_grad():\n",
    "            lgps=nnet_model(img1.float())\n",
    "    \n",
    "        p=torch.exp(lgps)\n",
    "        probability=list(p.numpy()[0])\n",
    "        pred=probability.index(max(probability))\n",
    "        \n",
    "        if(pred==lbl.numpy()[i]):\n",
    "            true_pred=true_pred+1\n",
    "        total_pred=total_pred+1\n",
    "\n",
    "print('Number of images validated ->',total_pred)\n",
    "print('Accuracy ->',true_pred/total_pred)"
   ]
  },
  {
   "cell_type": "code",
   "execution_count": null,
   "metadata": {},
   "outputs": [],
   "source": []
  }
 ],
 "metadata": {
  "kernelspec": {
   "display_name": "Python 3",
   "language": "python",
   "name": "python3"
  },
  "language_info": {
   "codemirror_mode": {
    "name": "ipython",
    "version": 3
   },
   "file_extension": ".py",
   "mimetype": "text/x-python",
   "name": "python",
   "nbconvert_exporter": "python",
   "pygments_lexer": "ipython3",
   "version": "3.7.4"
  }
 },
 "nbformat": 4,
 "nbformat_minor": 2
}
